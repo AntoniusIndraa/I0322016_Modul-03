{
 "cells": [
  {
   "cell_type": "markdown",
   "metadata": {},
   "source": [
    "OPERATOR"
   ]
  },
  {
   "cell_type": "markdown",
   "metadata": {},
   "source": [
    "Aritmatika"
   ]
  },
  {
   "cell_type": "code",
   "execution_count": 9,
   "metadata": {},
   "outputs": [
    {
     "name": "stdout",
     "output_type": "stream",
     "text": [
      "hasil dari 6 + 6 = 2\n"
     ]
    }
   ],
   "source": [
    "angka1=int(input('masukkan angka pertama '))\n",
    "angka2=int(input('masukkan angka kedua '))\n",
    "operator1=angka1+angka2\n",
    "print('hasil dari '+str(angka1)+' + '+str(angka2)+' = '+str(operasi1))"
   ]
  },
  {
   "cell_type": "markdown",
   "metadata": {},
   "source": [
    "Relasi"
   ]
  },
  {
   "cell_type": "code",
   "execution_count": null,
   "metadata": {},
   "outputs": [],
   "source": [
    "#Relasi\n",
    "\n"
   ]
  },
  {
   "cell_type": "markdown",
   "metadata": {},
   "source": [
    "Assignment"
   ]
  },
  {
   "cell_type": "code",
   "execution_count": 11,
   "metadata": {},
   "outputs": [
    {
     "name": "stdout",
     "output_type": "stream",
     "text": [
      "15\n"
     ]
    }
   ],
   "source": [
    "a = 10\n",
    "b = 5\n",
    "a += b\n",
    "print(a)"
   ]
  },
  {
   "cell_type": "code",
   "execution_count": 29,
   "metadata": {},
   "outputs": [
    {
     "name": "stdout",
     "output_type": "stream",
     "text": [
      "Input =  5\n",
      "hasil dari 5 + 5 adalah 10\n",
      "hasil dari 5 - 5 adalah 0\n",
      "hasil dari 5 * 5 adalah 25\n",
      "hasil dari 5 / 5 adalah 1.0\n"
     ]
    }
   ],
   "source": [
    "#Assignment\n",
    "\n",
    "a = int(input('masikkan nilai a'))\n",
    "b = 5\n",
    "c=a\n",
    "d=a\n",
    "e=a\n",
    "f=a \n",
    "\n",
    "print('Input = ',a)\n",
    "a += b\n",
    "print('hasil dari '+ str(c)+' + 5 adalah',a)\n",
    "\n",
    "c -= b\n",
    "print('hasil dari '+ str(d)+' - 5 adalah',c)\n",
    "\n",
    "d *= b\n",
    "print('hasil dari '+ str(e)+' * 5 adalah',d)\n",
    "\n",
    "e /= b\n",
    "print('hasil dari '+ str(f)+' / 5 adalah',e)\n",
    "\n"
   ]
  },
  {
   "cell_type": "code",
   "execution_count": 37,
   "metadata": {},
   "outputs": [
    {
     "name": "stdout",
     "output_type": "stream",
     "text": [
      "Nilai pertama =  5\n",
      "Nilai Kedua =  2\n",
      "hasil dari 5 + 2 adalah 7\n",
      "hasil dari 5 - 2 adalah 3\n",
      "hasil dari 5 * 2 adalah 10\n",
      "hasil dari 5 / 2 adalah 2.5\n"
     ]
    }
   ],
   "source": [
    "a = int(input('masikkan nilai a'))\n",
    "b = int(input('masikkan nilai a'))\n",
    "c=a\n",
    "d=a\n",
    "e=a\n",
    "f=a \n",
    "\n",
    "print('Nilai pertama = ',a)\n",
    "print('Nilai Kedua = ',b)\n",
    "a += b\n",
    "print('hasil dari '+ str(c)+' + '+ str(b)+' adalah',a)\n",
    "\n",
    "c -= b\n",
    "print('hasil dari '+ str(d)+' - '+ str(b)+' adalah',c)\n",
    "\n",
    "d *= b\n",
    "print('hasil dari '+ str(e)+' * '+ str(b)+' adalah',d)\n",
    "\n",
    "e /= b\n",
    "print('hasil dari '+ str(f)+' / '+ str(b)+' adalah',e)\n"
   ]
  },
  {
   "cell_type": "markdown",
   "metadata": {},
   "source": [
    "Boolean"
   ]
  },
  {
   "cell_type": "markdown",
   "metadata": {},
   "source": []
  }
 ],
 "metadata": {
  "kernelspec": {
   "display_name": "Python 3",
   "language": "python",
   "name": "python3"
  },
  "language_info": {
   "codemirror_mode": {
    "name": "ipython",
    "version": 3
   },
   "file_extension": ".py",
   "mimetype": "text/x-python",
   "name": "python",
   "nbconvert_exporter": "python",
   "pygments_lexer": "ipython3",
   "version": "3.11.2"
  },
  "orig_nbformat": 4
 },
 "nbformat": 4,
 "nbformat_minor": 2
}
